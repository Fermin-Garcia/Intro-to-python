{
 "cells": [
  {
   "cell_type": "markdown",
   "id": "133280b2-7303-4c42-b3e1-6c34a8820653",
   "metadata": {},
   "source": [
    "# Introduction:\n",
    "We are going take a closer look at variables and how they operate."
   ]
  },
  {
   "cell_type": "markdown",
   "id": "b861b0e9-684c-40d0-94ce-a29ad7eedf45",
   "metadata": {},
   "source": [
    "# Variables:\n",
    "\n",
    "## What are variables ?\n",
    "* A variable in python is a symbolic names that references or points to a value stored in memory. Variables are assiged meaning with a `=`."
   ]
  },
  {
   "cell_type": "markdown",
   "id": "78f4cd38-c768-4d79-9c93-3f0a3b1a064e",
   "metadata": {},
   "source": [
    "# Data types:\n",
    "\n",
    "Below are some examples of data types.\n",
    "| Data Type   | Description                                                                                     |\n",
    "|-------------|-------------------------------------------------------------------------------------------------|\n",
    "| Integer     | Represents whole numbers, both positive and negative.                                            |\n",
    "| Float       | Represents real numbers (i.e., numbers with decimals).                                           |\n",
    "| String      | A sequence of characters, used to represent text.                                                |\n",
    "| Boolean     | Represents the truth values, typically `True` or `False`.                                        |\n",
    "| List        | An ordered collection of items, which can be of any type. Mutable (items can be changed).       |\n",
    "| Tuple       | An ordered collection of items, similar to a list, but immutable (cannot be changed).           |\n",
    "| Dictionary  | A collection of key-value pairs.                                                                |\n",
    "| Set         | An unordered collection of unique items.                                                         |\n",
    "| Bytes       | Represents a sequence of bytes (0-255).                                                         |\n",
    "| None        | Represents the absence of a value or a null value.                                              |"
   ]
  },
  {
   "cell_type": "markdown",
   "id": "9728ce41-6c25-4e81-bdfc-67205e7c3a62",
   "metadata": {},
   "source": [
    "# Intergers:\n",
    "In python we have a few ways to work with integers and variables."
   ]
  },
  {
   "cell_type": "code",
   "execution_count": 1,
   "id": "7907b519-6c8e-496a-8506-e89471e59063",
   "metadata": {
    "tags": []
   },
   "outputs": [
    {
     "data": {
      "text/plain": [
       "8"
      ]
     },
     "execution_count": 1,
     "metadata": {},
     "output_type": "execute_result"
    }
   ],
   "source": [
    "# In python you can do arthetics in the cell block(the block that contains the code):\n",
    "3 + 5"
   ]
  },
  {
   "cell_type": "code",
   "execution_count": 2,
   "id": "2ca2916a-2b61-42be-a67c-82c3ca7cab75",
   "metadata": {
    "tags": []
   },
   "outputs": [
    {
     "data": {
      "text/plain": [
       "-96"
      ]
     },
     "execution_count": 2,
     "metadata": {},
     "output_type": "execute_result"
    }
   ],
   "source": [
    "4 - 100"
   ]
  },
  {
   "cell_type": "code",
   "execution_count": 3,
   "id": "b2cbff24-e8a3-47cb-86c5-13eb1459fbf7",
   "metadata": {
    "tags": []
   },
   "outputs": [],
   "source": [
    "# We can do mathmatical equations using symbols. \n",
    "# Take this example problem.\n",
    "\n",
    "# Fermin has 5 Decks of playing cards.\n",
    "# He uses one deck each time he performs his card stabbing routine.\n",
    "# Since he last updated he has performed his routine twice.\n",
    "# How many decks does Fermin have left?"
   ]
  },
  {
   "cell_type": "code",
   "execution_count": 4,
   "id": "0c6cf83b-11a2-4b7c-bf77-b8d11612dc72",
   "metadata": {
    "tags": []
   },
   "outputs": [
    {
     "name": "stdout",
     "output_type": "stream",
     "text": [
      "3\n"
     ]
    }
   ],
   "source": [
    "# Here we make a variable named total_decks to repersent the starting number of decks.\n",
    "\n",
    "total_decks = 5\n",
    "\n",
    "\n",
    "# Since we performed the trick twice we can do the following:\n",
    "\n",
    "print(total_decks - 2) "
   ]
  },
  {
   "cell_type": "code",
   "execution_count": 5,
   "id": "d573cbee-a452-49f7-bcb7-f9e6ec5e7856",
   "metadata": {
    "tags": []
   },
   "outputs": [
    {
     "name": "stdout",
     "output_type": "stream",
     "text": [
      "5\n"
     ]
    }
   ],
   "source": [
    "# Note, This does not update the value, see output below:\n",
    "print(total_decks)"
   ]
  },
  {
   "cell_type": "markdown",
   "id": "f44d19f7-c7bf-46ab-922e-12360f36c0de",
   "metadata": {},
   "source": [
    "## Updating a numerical variable."
   ]
  },
  {
   "cell_type": "code",
   "execution_count": 6,
   "id": "7b46b5e0-89ae-4750-8e10-96a1478a9eed",
   "metadata": {
    "tags": []
   },
   "outputs": [
    {
     "name": "stdout",
     "output_type": "stream",
     "text": [
      "3\n"
     ]
    }
   ],
   "source": [
    "# There are a few ways we can update the variable:\n",
    "total_decks = total_decks - 2\n",
    "# We set total_decks equal to the value of total_decks(5) - 2 (the number of decks used to.\n",
    "# So the value of total_decks change with the equation\n",
    "# We are writing a print statement \n",
    "print(total_decks)"
   ]
  },
  {
   "cell_type": "code",
   "execution_count": 7,
   "id": "5e7ca486-41e1-4dda-8bdc-563cf1df2ac6",
   "metadata": {},
   "outputs": [
    {
     "name": "stdout",
     "output_type": "stream",
     "text": [
      "3\n"
     ]
    }
   ],
   "source": [
    "# Another method to update the total_deck is to use the += or -= or *=... you get the point. \n",
    "# well reset the variable total_deck \n",
    "\n",
    "total_deck = 5\n",
    "\n",
    "\n",
    "total_deck -= 2\n",
    "# Break down of the above code. \n",
    "# total_decks(5) minus 2( decks used), then assigns the new value to the variable total_decks.\n",
    "\n",
    "print(total_deck)"
   ]
  },
  {
   "cell_type": "markdown",
   "id": "352d4dc2-7c37-40b4-aa73-a0a6db52d6c6",
   "metadata": {},
   "source": [
    "# Practice:\n",
    "For upcoming magic show fermin add 6 decks to his collection. write a line of code to update the new total. "
   ]
  },
  {
   "cell_type": "code",
   "execution_count": 8,
   "id": "4ec9d110-165d-4c11-9fd5-e796cd917d5b",
   "metadata": {
    "tags": []
   },
   "outputs": [],
   "source": [
    "# Practice questions workspaces:\n",
    "\n",
    "\n"
   ]
  },
  {
   "cell_type": "markdown",
   "id": "d1e7ed49-178e-4a4a-89c5-7cc21f0bd866",
   "metadata": {},
   "source": [
    "# Built in Methods:\n",
    "In python we have a few built in methods and fuctions we can call:\n",
    "* `type()`\n",
    "* `f-strings`- is a special conditioning for strings, it allow us to use variables in a string, like greetings."
   ]
  },
  {
   "cell_type": "markdown",
   "id": "21846d6b-9633-42d2-9d2e-2f7ff380be7e",
   "metadata": {},
   "source": [
    "## `type()`"
   ]
  },
  {
   "cell_type": "code",
   "execution_count": 9,
   "id": "f29a802d-02f6-4151-9f25-6f011538ae1f",
   "metadata": {
    "tags": []
   },
   "outputs": [
    {
     "name": "stdout",
     "output_type": "stream",
     "text": [
      "<class 'int'>\n"
     ]
    }
   ],
   "source": [
    "# You can always check the data type by using type() method.\n",
    "print(type(total_deck))"
   ]
  },
  {
   "cell_type": "code",
   "execution_count": 10,
   "id": "7bc2eb31-827f-4d17-ab74-8845586af234",
   "metadata": {},
   "outputs": [
    {
     "name": "stdout",
     "output_type": "stream",
     "text": [
      "<class 'float'>\n"
     ]
    }
   ],
   "source": [
    "# If we wanted to make it a float we can do it the following ways:\n",
    "\n",
    "total_deck = float(total_deck)\n",
    "\n",
    "print(type(total_deck))\n",
    "\n"
   ]
  },
  {
   "cell_type": "markdown",
   "id": "1bdd39af-62d8-4ddd-b20c-749972933502",
   "metadata": {},
   "source": [
    "## "
   ]
  },
  {
   "cell_type": "code",
   "execution_count": 12,
   "id": "034479d1-e0ea-4741-8e6c-a4677a8e1734",
   "metadata": {
    "tags": []
   },
   "outputs": [
    {
     "name": "stdout",
     "output_type": "stream",
     "text": [
      "right now total_decks = 5 and it is a/an <class 'int'>\n",
      "<class 'int'>\n",
      "right now total_decks = 3 and it is a/an <class 'float'>\n",
      "<class 'float'>\n",
      "right now total_decks = 3 and it is a/an <class 'float'>\n",
      "<class 'float'>\n"
     ]
    }
   ],
   "source": [
    "# Another way to set the value of a float\n",
    "# To display this we will reset the value to 5 \n",
    "\n",
    "total_deck = 5\n",
    "\n",
    "# f-strings are special cases where we can input variables into a print statement:\n",
    "print(f'right now total_decks = {total_deck} and it is a/an {type(total_deck)}')\n",
    "\n",
    "\n",
    "# This should return as a int because 5 is a whole number, which is what we started \n",
    "print(type(total_deck))\n",
    "\n",
    "# You can always just start it as float\n",
    "total_deck = 5.0\n",
    "print(f'right now total_decks = {total_decks} and it is a/an {type(total_deck)}')\n",
    "\n",
    "\n",
    "\n",
    "print(type(total_deck))\n",
    "\n",
    "total_deck -= 2 \n",
    "  \n",
    "print(f'right now total_decks = {total_decks} and it is a/an {type(total_deck)}')\n",
    "\n",
    "\n",
    "print(type(total_deck))\n"
   ]
  }
 ],
 "metadata": {
  "kernelspec": {
   "display_name": "Python 3 (ipykernel)",
   "language": "python",
   "name": "python3"
  },
  "language_info": {
   "codemirror_mode": {
    "name": "ipython",
    "version": 3
   },
   "file_extension": ".py",
   "mimetype": "text/x-python",
   "name": "python",
   "nbconvert_exporter": "python",
   "pygments_lexer": "ipython3",
   "version": "3.11.3"
  }
 },
 "nbformat": 4,
 "nbformat_minor": 5
}
